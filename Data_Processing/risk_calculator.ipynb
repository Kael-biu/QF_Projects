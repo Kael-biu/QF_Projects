{
 "cells": [
  {
   "cell_type": "code",
   "execution_count": 18,
   "id": "ab0c5556-9fbf-4f39-a78b-246e6979d27a",
   "metadata": {},
   "outputs": [
    {
     "data": {
      "application/vnd.jupyter.widget-view+json": {
       "model_id": "7dba87d948d0438dacfd3df120373e2a",
       "version_major": 2,
       "version_minor": 0
      },
      "text/plain": [
       "interactive(children=(Dropdown(description='选择基金：', options=('159320.SZ', '159363.SZ', '520500.SH', '520600.SH…"
      ]
     },
     "metadata": {},
     "output_type": "display_data"
    },
    {
     "data": {
      "text/plain": [
       "<function __main__.plot_fund_analysis(fund_code)>"
      ]
     },
     "execution_count": 18,
     "metadata": {},
     "output_type": "execute_result"
    }
   ],
   "source": [
    "# -*- coding: utf-8 -*-\n",
    "\n",
    "%matplotlib inline\n",
    "import pandas as pd\n",
    "import matplotlib.pyplot as plt\n",
    "from ipywidgets import interact, Dropdown\n",
    "import openpyxl\n",
    "\n",
    "# ========== 第一步：加载数据 ==========\n",
    "cleaned_data = pd.read_csv('fund_clean.csv')\n",
    "risk_indicators = pd.read_excel('fund_risk_indicators.xlsx', sheet_name='风险指标')\n",
    "\n",
    "plt.rcParams['font.sans-serif'] = ['SimHei']  # 使用黑体\n",
    "plt.rcParams['axes.unicode_minus'] = False    # 解决负号显示问题\n",
    "\n",
    "# ========== 第二步：定义可视化函数 ==========\n",
    "def plot_fund_analysis(fund_code):\n",
    "    \"\"\"绘制单支基金分析图表\"\"\"\n",
    "    fig, (ax1, ax2) = plt.subplots(2, 1, figsize=(12, 8))\n",
    "    \n",
    "    # 净值曲线\n",
    "    fund_data = cleaned_data[cleaned_data['ts_code'] == fund_code]\n",
    "    ax1.plot(fund_data['date'], fund_data['net_value'], label='复权净值', color='#1f77b4')\n",
    "    ax1.set_title(f\"{fund_code} 净值走势\")\n",
    "    ax1.set_xlabel(\"日期\")\n",
    "    ax1.set_ylabel(\"净值\")\n",
    "    ax1.grid(True, linestyle='--', alpha=0.6)\n",
    "    ax1.tick_params(axis='x', rotation=45) \n",
    "\n",
    "    # 风险指标\n",
    "    risk_data = risk_indicators[risk_indicators['ts_code'] == fund_code]\n",
    "    metrics = ['年化波动率', '最大回撤', 'Calamr比率']\n",
    "    values = risk_data[metrics].values.flatten()\n",
    "    ax2.bar(metrics, values, color=['#2ca02c', '#d62728', '#ff7f0e'])\n",
    "    ax2.set_title(\"风险指标\")\n",
    "    ax2.set_ylabel(\"数值\")\n",
    "    ax2.set_ylim(0, max(values)*1.2)\n",
    "\n",
    "    plt.tight_layout()\n",
    "    plt.show()\n",
    "\n",
    "\n",
    "\n",
    "# ========== 第三步：创建交互控件 ==========\n",
    "# 获取基金列表\n",
    "fund_list = cleaned_data['ts_code'].unique().tolist()\n",
    "\n",
    "# 创建下拉菜单\n",
    "fund_dropdown = Dropdown(\n",
    "    options=fund_list,\n",
    "    value=fund_list[0],\n",
    "    description='选择基金：'\n",
    ")\n",
    "\n",
    "# 绑定交互\n",
    "interact(\n",
    "    plot_fund_analysis,\n",
    "    fund_code=fund_dropdown\n",
    ")\n",
    "\n"
   ]
  }
 ],
 "metadata": {
  "kernelspec": {
   "display_name": "Python 3 (ipykernel)",
   "language": "python",
   "name": "python3"
  },
  "language_info": {
   "codemirror_mode": {
    "name": "ipython",
    "version": 3
   },
   "file_extension": ".py",
   "mimetype": "text/x-python",
   "name": "python",
   "nbconvert_exporter": "python",
   "pygments_lexer": "ipython3",
   "version": "3.8.20"
  }
 },
 "nbformat": 4,
 "nbformat_minor": 5
}
